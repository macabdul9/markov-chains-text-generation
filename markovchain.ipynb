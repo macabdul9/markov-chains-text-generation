{
 "cells": [
  {
   "cell_type": "code",
   "execution_count": 46,
   "metadata": {},
   "outputs": [],
   "source": [
    "import numpy"
   ]
  },
  {
   "cell_type": "code",
   "execution_count": 47,
   "metadata": {},
   "outputs": [
    {
     "name": "stdout",
     "output_type": "stream",
     "text": [
      "dsvjf\n",
      "sdvvsd\n",
      "dkv\n",
      "dv\n",
      "ddfv\n",
      "d\n",
      "vf\n",
      "vdvf\n",
      "d\n",
      "fvf\n",
      "\n"
     ]
    }
   ],
   "source": [
    "somestring = \"dsvjf sdvvsd dkv dv ddfv d vf vdvf d fvf \"\n",
    "words = somestring.split(\" \")\n",
    "for word in words:\n",
    "    print(word)"
   ]
  },
  {
   "cell_type": "code",
   "execution_count": 159,
   "metadata": {},
   "outputs": [],
   "source": [
    "def freqtable(seq, k):\n",
    "    table = {}\n",
    "    l = len(seq)\n",
    "    for i in range(l - k):\n",
    "        chunk = seq[i:i + k]\n",
    "        nextchar = seq[i + k]\n",
    "        if chunk in table:\n",
    "            if nextchar in chunk:\n",
    "                table[chunk][nextchar] += 1\n",
    "            else:\n",
    "                table[chunk][nextchar] = 1   \n",
    "        else:\n",
    "            table[chunk] = {\n",
    "                nextchar : 1\n",
    "            }\n",
    "            \n",
    "    return table\n",
    "        \n",
    "    "
   ]
  },
  {
   "cell_type": "code",
   "execution_count": 219,
   "metadata": {},
   "outputs": [],
   "source": [
    "seq = \"\"\"hello hello hello hem world my name is  my name is my name is my name is my name \n",
    "        my name is my name is my name is my is abdul waheed computer communication \"\"\""
   ]
  },
  {
   "cell_type": "code",
   "execution_count": 220,
   "metadata": {},
   "outputs": [
    {
     "ename": "KeyError",
     "evalue": "'m'",
     "output_type": "error",
     "traceback": [
      "\u001b[0;31m---------------------------------------------------------------------------\u001b[0m",
      "\u001b[0;31mKeyError\u001b[0m                                  Traceback (most recent call last)",
      "\u001b[0;32m<ipython-input-220-faa6c5b54c76>\u001b[0m in \u001b[0;36m<module>\u001b[0;34m\u001b[0m\n\u001b[0;32m----> 1\u001b[0;31m \u001b[0mtable\u001b[0m \u001b[0;34m=\u001b[0m \u001b[0mfreqtable\u001b[0m\u001b[0;34m(\u001b[0m\u001b[0mseq\u001b[0m\u001b[0;34m,\u001b[0m \u001b[0;36m3\u001b[0m\u001b[0;34m)\u001b[0m\u001b[0;34m\u001b[0m\u001b[0m\n\u001b[0m",
      "\u001b[0;32m<ipython-input-159-91b064a0cb6c>\u001b[0m in \u001b[0;36mfreqtable\u001b[0;34m(seq, k)\u001b[0m\n\u001b[1;32m      7\u001b[0m         \u001b[0;32mif\u001b[0m \u001b[0mchunk\u001b[0m \u001b[0;32min\u001b[0m \u001b[0mtable\u001b[0m\u001b[0;34m:\u001b[0m\u001b[0;34m\u001b[0m\u001b[0m\n\u001b[1;32m      8\u001b[0m             \u001b[0;32mif\u001b[0m \u001b[0mnextchar\u001b[0m \u001b[0;32min\u001b[0m \u001b[0mchunk\u001b[0m\u001b[0;34m:\u001b[0m\u001b[0;34m\u001b[0m\u001b[0m\n\u001b[0;32m----> 9\u001b[0;31m                 \u001b[0mtable\u001b[0m\u001b[0;34m[\u001b[0m\u001b[0mchunk\u001b[0m\u001b[0;34m]\u001b[0m\u001b[0;34m[\u001b[0m\u001b[0mnextchar\u001b[0m\u001b[0;34m]\u001b[0m \u001b[0;34m+=\u001b[0m \u001b[0;36m1\u001b[0m\u001b[0;34m\u001b[0m\u001b[0m\n\u001b[0m\u001b[1;32m     10\u001b[0m             \u001b[0;32melse\u001b[0m\u001b[0;34m:\u001b[0m\u001b[0;34m\u001b[0m\u001b[0m\n\u001b[1;32m     11\u001b[0m                 \u001b[0mtable\u001b[0m\u001b[0;34m[\u001b[0m\u001b[0mchunk\u001b[0m\u001b[0;34m]\u001b[0m\u001b[0;34m[\u001b[0m\u001b[0mnextchar\u001b[0m\u001b[0;34m]\u001b[0m \u001b[0;34m=\u001b[0m \u001b[0;36m1\u001b[0m\u001b[0;34m\u001b[0m\u001b[0m\n",
      "\u001b[0;31mKeyError\u001b[0m: 'm'"
     ]
    }
   ],
   "source": [
    "table = freqtable(seq, 3)"
   ]
  },
  {
   "cell_type": "code",
   "execution_count": 202,
   "metadata": {},
   "outputs": [],
   "source": [
    "def convertToProb(table):\n",
    "    for key in table:\n",
    "        total = sum(table[key].values())\n",
    "        for each in table[key]:\n",
    "            table[key][each] /= total\n",
    "    return table"
   ]
  },
  {
   "cell_type": "code",
   "execution_count": 203,
   "metadata": {},
   "outputs": [],
   "source": [
    "model = convertToProb(table)"
   ]
  },
  {
   "cell_type": "code",
   "execution_count": 204,
   "metadata": {},
   "outputs": [
    {
     "data": {
      "text/plain": [
       "{'\\n  ': {' ': 1.0},\n",
       " ' \\n ': {' ': 1.0},\n",
       " '   ': {' ': 0.8333333333333334, 'm': 0.16666666666666666},\n",
       " '  m': {'y': 1.0},\n",
       " ' ab': {'d': 1.0},\n",
       " ' co': {'m': 1.0},\n",
       " ' he': {'l': 0.5, 'm': 0.5},\n",
       " ' is': {' ': 1.0},\n",
       " ' my': {' ': 1.0},\n",
       " ' na': {'m': 1.0},\n",
       " ' wa': {'h': 1.0},\n",
       " ' wo': {'r': 1.0},\n",
       " 'abd': {'u': 1.0},\n",
       " 'ahe': {'e': 1.0},\n",
       " 'ame': {' ': 1.0},\n",
       " 'ati': {'o': 1.0},\n",
       " 'bdu': {'l': 1.0},\n",
       " 'cat': {'i': 1.0},\n",
       " 'com': {'p': 0.5, 'u': 0.5},\n",
       " 'd c': {'o': 1.0},\n",
       " 'd m': {'y': 1.0},\n",
       " 'dul': {' ': 1.0},\n",
       " 'e \\n': {' ': 1.0},\n",
       " 'e i': {'s': 1.0},\n",
       " 'ed ': {'c': 1.0},\n",
       " 'eed': {' ': 1.0},\n",
       " 'ell': {'o': 1.0},\n",
       " 'em ': {'w': 1.0},\n",
       " 'er ': {'c': 1.0},\n",
       " 'hee': {'d': 1.0},\n",
       " 'hel': {'l': 1.0},\n",
       " 'hem': {' ': 1.0},\n",
       " 'ica': {'t': 1.0},\n",
       " 'ion': {' ': 1.0},\n",
       " 'is ': {' ': 0.3333333333333333,\n",
       "  'a': 0.3333333333333333,\n",
       "  'm': 0.3333333333333333},\n",
       " 'l w': {'a': 1.0},\n",
       " 'ld ': {'m': 1.0},\n",
       " 'llo': {' ': 1.0},\n",
       " 'lo ': {'h': 1.0},\n",
       " 'm w': {'o': 1.0},\n",
       " 'me ': {'\\n': 0.5, 'i': 0.5},\n",
       " 'mpu': {'t': 1.0},\n",
       " 'mun': {'i': 1.0},\n",
       " 'my ': {'i': 0.5, 'n': 0.5},\n",
       " 'nam': {'e': 1.0},\n",
       " 'nic': {'a': 1.0},\n",
       " 'o h': {'e': 1.0},\n",
       " 'omp': {'u': 1.0},\n",
       " 'omu': {'n': 1.0},\n",
       " 'orl': {'d': 1.0},\n",
       " 'put': {'e': 1.0},\n",
       " 'r c': {'o': 1.0},\n",
       " 'rld': {' ': 1.0},\n",
       " 's  ': {'m': 1.0},\n",
       " 's a': {'b': 1.0},\n",
       " 's m': {'y': 1.0},\n",
       " 'ter': {' ': 1.0},\n",
       " 'tio': {'n': 1.0},\n",
       " 'ul ': {'w': 1.0},\n",
       " 'uni': {'c': 1.0},\n",
       " 'ute': {'r': 1.0},\n",
       " 'wah': {'e': 1.0},\n",
       " 'wor': {'l': 1.0},\n",
       " 'y i': {'s': 1.0},\n",
       " 'y n': {'a': 1.0}}"
      ]
     },
     "execution_count": 204,
     "metadata": {},
     "output_type": "execute_result"
    }
   ],
   "source": [
    "model"
   ]
  },
  {
   "cell_type": "code",
   "execution_count": 205,
   "metadata": {},
   "outputs": [],
   "source": [
    "def sampleNext(model, input_str):\n",
    "    X = input_str[-3:]\n",
    "    if X in model:\n",
    "        outcomes = list( model[X].keys() )\n",
    "        probs = list( model[X].values() )\n",
    "        return numpy.random.choice(outcomes, p=probs)\n",
    "    else:\n",
    "        return \" \""
   ]
  },
  {
   "cell_type": "code",
   "execution_count": 217,
   "metadata": {},
   "outputs": [
    {
     "data": {
      "text/plain": [
       "'p'"
      ]
     },
     "execution_count": 217,
     "metadata": {},
     "output_type": "execute_result"
    }
   ],
   "source": [
    "\n",
    "sampleNext(model, 'com')"
   ]
  },
  {
   "cell_type": "code",
   "execution_count": 218,
   "metadata": {},
   "outputs": [
    {
     "data": {
      "text/plain": [
       "'p'"
      ]
     },
     "execution_count": 218,
     "metadata": {},
     "output_type": "execute_result"
    }
   ],
   "source": [
    "sampleNext(model, 'com')"
   ]
  },
  {
   "cell_type": "code",
   "execution_count": null,
   "metadata": {},
   "outputs": [],
   "source": []
  },
  {
   "cell_type": "code",
   "execution_count": null,
   "metadata": {},
   "outputs": [],
   "source": []
  },
  {
   "cell_type": "code",
   "execution_count": null,
   "metadata": {},
   "outputs": [],
   "source": []
  }
 ],
 "metadata": {
  "kernelspec": {
   "display_name": "Python 3",
   "language": "python",
   "name": "python3"
  },
  "language_info": {
   "codemirror_mode": {
    "name": "ipython",
    "version": 3
   },
   "file_extension": ".py",
   "mimetype": "text/x-python",
   "name": "python",
   "nbconvert_exporter": "python",
   "pygments_lexer": "ipython3",
   "version": "3.5.3"
  }
 },
 "nbformat": 4,
 "nbformat_minor": 2
}
